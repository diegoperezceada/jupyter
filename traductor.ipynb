{
 "cells": [
  {
   "cell_type": "code",
   "execution_count": null,
   "metadata": {},
   "outputs": [],
   "source": [
    "from transformers import pipeline\n",
    "print(\"Idiomas disponibles: Francés, alemán, rumano.\")\n",
    "print(\"Recuerde que la pslabra a traducir debe ir en inglés. \")\n",
    "elegido = input(\"Elija un idioma: \")\n",
    "frase = input(\"Escriba lo que desea traducir: \")\n",
    "\n",
    "if elegido==\"frances\":\n",
    "    translator = pipeline(\"translation_en_to_fr\")\n",
    "translator(frase)\n",
    "\n",
    "if elegido==\"aleman\":\n",
    "    translator2 = pipeline(\"translation_en_to_de\")\n",
    "translator2(frase)\n",
    "\n",
    "if elegido ==\"rumano\":\n",
    "    translator3= pipeline(\"translation_en_to_ro\")\n",
    "translator3(frase)"
   ]
  }
 ],
 "metadata": {
  "kernelspec": {
   "display_name": "Python 3.10.8 64-bit (microsoft store)",
   "language": "python",
   "name": "python3"
  },
  "language_info": {
   "name": "python",
   "version": "3.10.8"
  },
  "orig_nbformat": 4,
  "vscode": {
   "interpreter": {
    "hash": "85aece5883f23cf93a903b25fd3f6a5833dab6da9d10cf403dbbc785be5e4181"
   }
  }
 },
 "nbformat": 4,
 "nbformat_minor": 2
}
