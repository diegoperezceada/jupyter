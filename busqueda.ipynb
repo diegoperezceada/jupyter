{
 "cells": [
  {
   "cell_type": "code",
   "execution_count": 188,
   "id": "b2822a86-1657-4944-a5d3-d11154319f49",
   "metadata": {},
   "outputs": [],
   "source": [
    "def algoritmo_a_star(graph):\n",
    "         #El resultado para este ejemplo debera ser el siguiente:\n",
    "    lista_nodos = []\n",
    "    mejor_recorrido = 100000\n",
    "    mejor_camino = []\n",
    "    #TODO\n",
    "    print(f\"lista_nodos: {lista_nodos}\")\n",
    "    lista_nodos.append([\"S\", 0, []])\n",
    "\n",
    "    print(f\"lista_nodos: {lista_nodos}\")\n",
    "    while len(lista_nodos) > 0:\n",
    "\n",
    "        tmpNode = lista_nodos.pop(0)\n",
    "        camino_recorrido = tmpNode[2].copy()\n",
    "        camino_recorrido.append(tmpNode[0])\n",
    "\n",
    "        if tmpNode[0] == \"G\":\n",
    "            print(f\"Recorrido: {tmpNode[1]}\")\n",
    "            if tmpNode[1] < mejor_recorrido:\n",
    "                mejor_recorrido = tmpNode[1]\n",
    "                mejor_camino = camino_recorrido.copy()\n",
    "        for path in graph:\n",
    "\n",
    "            if path[0] == tmpNode[0]:\n",
    "                tmp = []\n",
    "                tmp.append(path[1])\n",
    "                tmp.append(path[2] + tmpNode[1])\n",
    "                tmp.append(camino_recorrido)\n",
    "                lista_nodos.append(tmp)\n",
    "\n",
    "        print(f\"lista_nodos: {lista_nodos}\")\n",
    "    print(f\"Recorrido mas corto {mejor_recorrido}\")\n",
    "    print(f\"Camino mas corto {mejor_camino}\")\n",
    "    #largo = 6\n",
    "    #camino = [\"S\",\"A\",\"C\",\"G\"]\n",
    "    return (mejor_recorrido, mejor_camino)"
   ]
  },
  {
   "cell_type": "code",
   "execution_count": 189,
   "id": "a3aede72-05eb-423d-85e6-a18ea5752bd0",
   "metadata": {},
   "outputs": [
    {
     "name": "stdout",
     "output_type": "stream",
     "text": [
      "G\n"
     ]
    }
   ],
   "source": [
    "#Si el graph es el siguiente:\n",
    "graph = [(\"S\", \"A\",2), (\"S\", \"B\", 3), (\"A\", \"C\", 4),\n",
    "         (\"A\", \"D\", 2), (\"B\", \"E\", 4), (\"B\", \"H\", 1), (\"E\", \"G\", 2), (\"H\", \"G\", 3), (\"D\", \"G\", 1)]\n"
   ]
  },
  {
   "cell_type": "code",
   "execution_count": null,
   "id": "2f3e7f5b-dc5c-40fd-a636-78978c9c19e6",
   "metadata": {},
   "outputs": [],
   "source": []
  }
 ],
 "metadata": {
  "kernelspec": {
   "display_name": "Python 3 (ipykernel)",
   "language": "python",
   "name": "python3"
  },
  "language_info": {
   "codemirror_mode": {
    "name": "ipython",
    "version": 3
   },
   "file_extension": ".py",
   "mimetype": "text/x-python",
   "name": "python",
   "nbconvert_exporter": "python",
   "pygments_lexer": "ipython3",
   "version": "3.10.8"
  },
  "vscode": {
   "interpreter": {
    "hash": "e7370f93d1d0cde622a1f8e1c04877d8463912d04d973331ad4851f04de6915a"
   }
  }
 },
 "nbformat": 4,
 "nbformat_minor": 5
}
